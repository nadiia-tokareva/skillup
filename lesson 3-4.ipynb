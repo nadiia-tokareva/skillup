{
 "cells": [
  {
   "cell_type": "code",
   "execution_count": 23,
   "id": "a6fd08e4",
   "metadata": {},
   "outputs": [
    {
     "name": "stdout",
     "output_type": "stream",
     "text": [
      "4\n",
      "36\n",
      "100\n"
     ]
    }
   ],
   "source": [
    "# ===============================================\n",
    "# =                 Task 1                      =\n",
    "# ===============================================\n",
    "\n",
    "def square(func):\n",
    "    def inner(x):\n",
    "        a = func(x)\n",
    "        return a*a\n",
    "    return inner\n",
    "\n",
    "@square\n",
    "def func(x):\n",
    "    return x\n",
    "\n",
    "print(func(2))\n",
    "print(func(6))\n",
    "print(func(10))"
   ]
  },
  {
   "cell_type": "code",
   "execution_count": 24,
   "id": "f54cec5c",
   "metadata": {},
   "outputs": [
    {
     "name": "stdout",
     "output_type": "stream",
     "text": [
      "Connected to IP: 10.10.10.10:5555\n",
      "I am HP printer\n",
      "Printing: Test text\n",
      "Close connection\n",
      "Connected to IP: 10.10.10.10:5666\n",
      "I am Canon printer\n",
      "Printing: Test text_2\n",
      "Close connection\n"
     ]
    }
   ],
   "source": [
    "# =============================================\n",
    "# =               Task2                       =\n",
    "# =============================================\n",
    "\n",
    "def connection(ip, port):\n",
    "    def printer(func):\n",
    "        def inner(document):\n",
    "            print(f'Connected to IP: {ip}:{port}')\n",
    "            func(document)\n",
    "            print('Close connection')\n",
    "        return inner\n",
    "    return printer\n",
    "        \n",
    "      \n",
    "@connection(ip=\"10.10.10.10\", port=5555)\n",
    "def hp(document):\n",
    "    print(\"I am HP printer\")\n",
    "    print(f'Printing: {document}')\n",
    "    \n",
    "@connection(ip=\"10.10.10.10\", port=5666)\n",
    "def canon(document):\n",
    "    print(\"I am Canon printer\")\n",
    "    print(f'Printing: {document}')\n",
    "\n",
    "\n",
    "hp('Test text')\n",
    "canon('Test text_2')    "
   ]
  }
 ],
 "metadata": {
  "kernelspec": {
   "display_name": "Python 3 (ipykernel)",
   "language": "python",
   "name": "python3"
  },
  "language_info": {
   "codemirror_mode": {
    "name": "ipython",
    "version": 3
   },
   "file_extension": ".py",
   "mimetype": "text/x-python",
   "name": "python",
   "nbconvert_exporter": "python",
   "pygments_lexer": "ipython3",
   "version": "3.9.6"
  }
 },
 "nbformat": 4,
 "nbformat_minor": 5
}
