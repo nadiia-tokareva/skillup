{
 "cells": [
  {
   "cell_type": "code",
   "execution_count": 16,
   "id": "379b7300",
   "metadata": {},
   "outputs": [
    {
     "name": "stdout",
     "output_type": "stream",
     "text": [
      "“Don't compare yourself with anyone in this world... if you do so, you are insulting yourself.”\n",
      "                                                                             Bill Gates\n"
     ]
    }
   ],
   "source": [
    "# =============================================\n",
    "# =                Task 1                     =\n",
    "# =============================================\n",
    "\n",
    "def get_text(text):\n",
    "    print(text)\n",
    "    \n",
    "get_text('''“Don't compare yourself with anyone in this world... if you do so, you are insulting yourself.”\n",
    "                                                                             Bill Gates''')\n",
    "\n"
   ]
  },
  {
   "cell_type": "code",
   "execution_count": 25,
   "id": "ca622ba8",
   "metadata": {},
   "outputs": [
    {
     "name": "stdout",
     "output_type": "stream",
     "text": [
      "6\n",
      "8\n",
      "10\n",
      "12\n",
      "14\n",
      "16\n",
      "18\n",
      "20\n",
      "22\n",
      "24\n",
      "26\n",
      "28\n",
      "30\n",
      "32\n",
      "34\n",
      "None\n"
     ]
    }
   ],
   "source": [
    "# =============================================\n",
    "# =                Task 2                     =\n",
    "# =============================================\n",
    "# принимает два числа и отображает все четные числа между ними\n",
    "\n",
    "def get_even_numbers(a, b):\n",
    "    for i in range(a, b):\n",
    "        if i % 2 == 0:\n",
    "            print(i)\n",
    "\n",
    "print(get_even_numbers(5, 35))\n"
   ]
  },
  {
   "cell_type": "code",
   "execution_count": 41,
   "id": "c9a87c09",
   "metadata": {},
   "outputs": [
    {
     "name": "stdout",
     "output_type": "stream",
     "text": [
      "5\n",
      "0\n"
     ]
    }
   ],
   "source": [
    "# =============================================\n",
    "# =                Task 4                     =\n",
    "# =============================================\n",
    "# возвращает минимальное из пяти чисел\n",
    "\n",
    "def min_number(a, b, c, d, e):\n",
    "    return min(a, b, c, d, e)\n",
    "\n",
    "print(min_number(5,6,5,8,100))\n",
    "print(min_number(0,1,2,3,4))"
   ]
  },
  {
   "cell_type": "code",
   "execution_count": 53,
   "id": "6fb0d4a7",
   "metadata": {},
   "outputs": [
    {
     "name": "stdout",
     "output_type": "stream",
     "text": [
      "Enter x: 2\n",
      "Enter y: 8\n",
      "40320\n"
     ]
    }
   ],
   "source": [
    "# =============================================\n",
    "# =                Task 5                     =\n",
    "# =============================================\n",
    "# Функция,которая возвращает произведение чисел в указанном диапазоне. \n",
    "\n",
    "def multiplication(x, y):\n",
    "    if x == y:\n",
    "        return 'Incorrect data entered'\n",
    "    if x > y:\n",
    "        x, y == y, x \n",
    "    result = 1\n",
    "    for i in range(x, y +1):\n",
    "        result *= i\n",
    "    return result\n",
    "\n",
    "print(multiplication(int(input('Enter x: ')), int(input('Enter y: '))))\n"
   ]
  },
  {
   "cell_type": "code",
   "execution_count": 60,
   "id": "a0406a62",
   "metadata": {},
   "outputs": [
    {
     "name": "stdout",
     "output_type": "stream",
     "text": [
      "Enter the number 6646456\n",
      "7\n"
     ]
    }
   ],
   "source": [
    "# =============================================\n",
    "# =                Task 6                     =\n",
    "# =============================================\n",
    "# функция, которая считает количество цифр в числе. \n",
    "\n",
    "def get_quantity(x):\n",
    "    return len(x)\n",
    "print(get_quantity(str(input('Enter the number '))))"
   ]
  }
 ],
 "metadata": {
  "kernelspec": {
   "display_name": "Python 3 (ipykernel)",
   "language": "python",
   "name": "python3"
  },
  "language_info": {
   "codemirror_mode": {
    "name": "ipython",
    "version": 3
   },
   "file_extension": ".py",
   "mimetype": "text/x-python",
   "name": "python",
   "nbconvert_exporter": "python",
   "pygments_lexer": "ipython3",
   "version": "3.9.6"
  }
 },
 "nbformat": 4,
 "nbformat_minor": 5
}
