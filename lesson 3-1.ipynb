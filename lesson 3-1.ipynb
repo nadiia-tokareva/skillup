{
 "cells": [
  {
   "cell_type": "code",
   "execution_count": 52,
   "id": "8ca8657f",
   "metadata": {},
   "outputs": [
    {
     "name": "stdout",
     "output_type": "stream",
     "text": [
      "0\n",
      "6\n",
      "1\n",
      "[1, 3, 6, 8, 10, 25, 0, 55, 95]\n",
      "[3, 5, 6, 8, 10, 25, 55, 95, 56, 89, 23, 54]\n",
      "[1, 9, 36, 64, 100, 625, 0, 3025, 9025]\n"
     ]
    }
   ],
   "source": [
    "list_of_numbers = [1, 3, 5, 6, 8, 10, 25, 0, 55, 95]\n",
    "\n",
    "# функция, для нахождения минимума в списке целых\n",
    "def min_value(some_list):\n",
    "    number = min(some_list)\n",
    "    return number\n",
    "print(min_value(list_of_numbers))\n",
    "\n",
    "# найти количество простых чисел в списке целых\n",
    "\n",
    "def get_prime_number(some_list):\n",
    "    count = 0\n",
    "    for i in some_list:\n",
    "        if i % 2 == 0:\n",
    "            count += 1\n",
    "            return i\n",
    "        \n",
    "print(get_prime_number(list_of_numbers))\n",
    "\n",
    "# функция, удаляющую из списка целых некоторое заданное число\n",
    "\n",
    "def get_delete_number(some_list, number):\n",
    "    count = 0\n",
    "    for i in some_list:\n",
    "        if i == number:\n",
    "            some_list.remove(i)\n",
    "            count += 1\n",
    "            return count\n",
    "\n",
    "print(get_delete_number(list_of_numbers, 5))\n",
    "print(list_of_numbers)    \n",
    "\n",
    "# функция, которая возвращает список, содержащий элементы 2-х списков\n",
    "\n",
    "list_of_numbers_1 = [3, 5, 6, 8, 10, 25, 55, 95]\n",
    "list_of_numbers_2 = [56, 89, 23, 54]\n",
    "\n",
    "def get_full_list(some_list, some_list_2):\n",
    "    return some_list + some_list_2\n",
    "\n",
    "print(get_full_list(list_of_numbers_1, list_of_numbers_2))\n",
    "\n",
    "# функция, высчитывающуя степень каждого элемента списка целых\n",
    "\n",
    "def get_power_of_numbers(some_list, pow_number):\n",
    "    result_list = []\n",
    "    for i in some_list:\n",
    "        result_list.append(i**pow_number)\n",
    "    return result_list\n",
    "\n",
    "print(get_power_of_numbers(list_of_numbers, 2))\n",
    "        \n",
    "        "
   ]
  }
 ],
 "metadata": {
  "kernelspec": {
   "display_name": "Python 3 (ipykernel)",
   "language": "python",
   "name": "python3"
  },
  "language_info": {
   "codemirror_mode": {
    "name": "ipython",
    "version": 3
   },
   "file_extension": ".py",
   "mimetype": "text/x-python",
   "name": "python",
   "nbconvert_exporter": "python",
   "pygments_lexer": "ipython3",
   "version": "3.9.6"
  }
 },
 "nbformat": 4,
 "nbformat_minor": 5
}
