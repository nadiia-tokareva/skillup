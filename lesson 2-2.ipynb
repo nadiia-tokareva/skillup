{
 "cells": [
  {
   "cell_type": "code",
   "execution_count": 19,
   "id": "bda7d0bd",
   "metadata": {},
   "outputs": [
    {
     "name": "stdout",
     "output_type": "stream",
     "text": [
      "Enter the number 1: 5\n",
      "Enter the number 2: 6\n",
      "Enter the number 3: 4\n",
      "Sum of numbers = 15\n",
      "Multiplication of numbers = 120\n"
     ]
    }
   ],
   "source": [
    "a = int(input('Enter the number 1: '))\n",
    "b = int(input('Enter the number 2: '))\n",
    "c = int(input('Enter the number 3: '))\n",
    "\n",
    "x = a+b+c\n",
    "y = a*b*c\n",
    "\n",
    "print(f'Sum of numbers = {x}')\n",
    "\n",
    "print(f'Multiplication of numbers = {y}')\n"
   ]
  },
  {
   "cell_type": "code",
   "execution_count": 23,
   "id": "aa97cc6f",
   "metadata": {},
   "outputs": [
    {
     "name": "stdout",
     "output_type": "stream",
     "text": [
      "Enter your first name Nadezhda\n",
      "Enter your last name Tokareva\n",
      "Hello, Nadezhda Tokareva!\n"
     ]
    }
   ],
   "source": [
    "first_name = input('Enter your first name ')\n",
    "last_name = input('Enter your last name ')\n",
    "\n",
    "print(f'Hello, {first_name} {last_name}!')"
   ]
  },
  {
   "cell_type": "code",
   "execution_count": 26,
   "id": "9a6a7641",
   "metadata": {},
   "outputs": [
    {
     "name": "stdout",
     "output_type": "stream",
     "text": [
      "How many meters you need? 65\n",
      "65 meters equals 65000 millimeters or 0.065 kilometers\n"
     ]
    }
   ],
   "source": [
    "x = int(input('How many meters you need? '))\n",
    "\n",
    "mm = x*1000\n",
    "km = x*0.001\n",
    "\n",
    "print(f'{x} meters equals {mm} millimeters or {km} kilometers')"
   ]
  }
 ],
 "metadata": {
  "kernelspec": {
   "display_name": "Python 3 (ipykernel)",
   "language": "python",
   "name": "python3"
  },
  "language_info": {
   "codemirror_mode": {
    "name": "ipython",
    "version": 3
   },
   "file_extension": ".py",
   "mimetype": "text/x-python",
   "name": "python",
   "nbconvert_exporter": "python",
   "pygments_lexer": "ipython3",
   "version": "3.9.6"
  }
 },
 "nbformat": 4,
 "nbformat_minor": 5
}
