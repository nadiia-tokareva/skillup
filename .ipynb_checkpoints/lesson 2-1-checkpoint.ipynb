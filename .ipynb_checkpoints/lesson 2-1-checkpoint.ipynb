{
 "cells": [
  {
   "cell_type": "code",
   "execution_count": 12,
   "id": "80ed4ae8",
   "metadata": {},
   "outputs": [
    {
     "name": "stdout",
     "output_type": "stream",
     "text": [
      "Абсолютное значение числа -2 = 2\n",
      "Абсолютное значение числа 56 = 56\n",
      "Абсолютное значение числа -10.5 = 10.5\n"
     ]
    }
   ],
   "source": [
    "#abs + format\n",
    "\n",
    "x=-2\n",
    "print(f'Абсолютное значение числа {x} = {abs(x)}')\n",
    "\n",
    "x= 56\n",
    "print(f'Абсолютное значение числа {x} = {abs(x)}')\n",
    "\n",
    "x = -10.5\n",
    "print(f'Абсолютное значение числа {x} = {abs(x)}')"
   ]
  },
  {
   "cell_type": "code",
   "execution_count": 36,
   "id": "fe4c214a",
   "metadata": {},
   "outputs": [
    {
     "name": "stdout",
     "output_type": "stream",
     "text": [
      "36\n",
      "42\n",
      "35\n"
     ]
    }
   ],
   "source": [
    "#ord\n",
    "\n",
    "print(ord('$'))\n",
    "\n",
    "print(ord('*'))\n",
    "\n",
    "print(ord('#'))"
   ]
  },
  {
   "cell_type": "code",
   "execution_count": 48,
   "id": "1b091c07",
   "metadata": {},
   "outputs": [
    {
     "name": "stdout",
     "output_type": "stream",
     "text": [
      "4\n",
      "0.008\n",
      "1679616\n"
     ]
    }
   ],
   "source": [
    "#pow\n",
    "\n",
    "print(pow(2, 2))\n",
    "\n",
    "print(pow(5, -3))\n",
    "\n",
    "print(pow(6,8))"
   ]
  },
  {
   "cell_type": "code",
   "execution_count": 27,
   "id": "8d45095a",
   "metadata": {},
   "outputs": [
    {
     "name": "stdout",
     "output_type": "stream",
     "text": [
      "<class 'int'>\n",
      "<class 'str'>\n",
      "<class 'float'>\n",
      "<class 'str'>\n"
     ]
    }
   ],
   "source": [
    "#str\n",
    "\n",
    "x = 56\n",
    "print(type(x))\n",
    "print(type(str(x)))\n",
    "\n",
    "y = 1.5\n",
    "print(type(y))\n",
    "print(type(str(y)))"
   ]
  },
  {
   "cell_type": "code",
   "execution_count": 14,
   "id": "eeed431e",
   "metadata": {},
   "outputs": [
    {
     "name": "stdout",
     "output_type": "stream",
     "text": [
      "'\\u043e\\u0434\\u0438\\u043d'\n",
      "'\\u0434\\u0432\\u0430'\n",
      "'\\u0442\\u0440\\u0438'\n"
     ]
    }
   ],
   "source": [
    "#ascii\n",
    "\n",
    "print(ascii('один'))\n",
    "print(ascii('два'))\n",
    "print(ascii('три'))\n"
   ]
  },
  {
   "cell_type": "code",
   "execution_count": 20,
   "id": "b3ff52f8",
   "metadata": {},
   "outputs": [
    {
     "name": "stdout",
     "output_type": "stream",
     "text": [
      "0b10111\n",
      "-0b10010110\n",
      "0b1010111\n"
     ]
    }
   ],
   "source": [
    "#bin\n",
    "\n",
    "print(bin(23))\n",
    "print(bin(-150))\n",
    "print(bin(87))"
   ]
  },
  {
   "cell_type": "code",
   "execution_count": 26,
   "id": "2c91d2c5",
   "metadata": {},
   "outputs": [
    {
     "name": "stdout",
     "output_type": "stream",
     "text": [
      "False\n",
      "True\n",
      "True\n",
      "False\n"
     ]
    }
   ],
   "source": [
    "# bool\n",
    "\n",
    "print(2==1)\n",
    "print(10>5)\n",
    "print(bool(25))\n",
    "print(bool(0))"
   ]
  },
  {
   "cell_type": "code",
   "execution_count": 33,
   "id": "461e441c",
   "metadata": {},
   "outputs": [
    {
     "name": "stdout",
     "output_type": "stream",
     "text": [
      "55.0\n",
      "59000000.0\n",
      "125.0\n"
     ]
    }
   ],
   "source": [
    "#float\n",
    "\n",
    "print(float(55))\n",
    "print(float(59E6))\n",
    "print(float('125'))"
   ]
  },
  {
   "cell_type": "code",
   "execution_count": 37,
   "id": "d84d833e",
   "metadata": {},
   "outputs": [
    {
     "name": "stdout",
     "output_type": "stream",
     "text": [
      "$\n",
      "*\n",
      "#\n"
     ]
    }
   ],
   "source": [
    "#chr\n",
    "\n",
    "print(chr(36))\n",
    "print(chr(42))\n",
    "print(chr(35))"
   ]
  },
  {
   "cell_type": "code",
   "execution_count": 50,
   "id": "be7c756b",
   "metadata": {},
   "outputs": [
    {
     "name": "stdout",
     "output_type": "stream",
     "text": [
      "1\n",
      "9.566\n",
      "3.14\n"
     ]
    }
   ],
   "source": [
    "#round\n",
    "\n",
    "print(round(1.26))\n",
    "print(round(9.565656656566, 3))\n",
    "print(round(3.141592653589793238462643, 2))"
   ]
  }
 ],
 "metadata": {
  "kernelspec": {
   "display_name": "Python 3 (ipykernel)",
   "language": "python",
   "name": "python3"
  },
  "language_info": {
   "codemirror_mode": {
    "name": "ipython",
    "version": 3
   },
   "file_extension": ".py",
   "mimetype": "text/x-python",
   "name": "python",
   "nbconvert_exporter": "python",
   "pygments_lexer": "ipython3",
   "version": "3.9.6"
  }
 },
 "nbformat": 4,
 "nbformat_minor": 5
}
