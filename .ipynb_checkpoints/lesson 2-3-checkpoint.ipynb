{
 "cells": [
  {
   "cell_type": "code",
   "execution_count": 26,
   "id": "32de9ddf",
   "metadata": {},
   "outputs": [
    {
     "name": "stdout",
     "output_type": "stream",
     "text": [
      "[0, 0, 2, 4, 5, 5, 6, 7, 7, 8]\n",
      "[0, 1, 2, 2, 2, 4, 6, 8, 10, 10]\n",
      "[0, 0, 2, 4, 5, 5, 6, 7, 7, 8, 0, 1, 2, 2, 2, 4, 6, 8, 10, 10]\n",
      "[0, 1, 2, 4, 5, 6, 7, 8, 10]\n",
      "[0, 0, 2, 4, 6, 8]\n",
      "[1, 5, 7, 10]\n",
      "[0, 8, 0, 10]\n"
     ]
    }
   ],
   "source": [
    "from random import randint\n",
    "\n",
    "list_1 = sorted([randint(0,10) for i in range(10)])\n",
    "list_2 = sorted([randint(0,10) for i in range(10)])\n",
    "\n",
    "list_3 = list_1 + list_2\n",
    "#список, содержащий элементы обоих списков\n",
    "\n",
    "list_4 = list(set(list_3))\n",
    "#список, содержащий элементы обоих списков без повторений\n",
    "\n",
    "list_5 = []\n",
    "for i in list_1:\n",
    "    for x in list_2:\n",
    "        if i==x:\n",
    "            list_5.append(i)\n",
    "            break\n",
    "#список, содержащий элементы общие для двух списков\n",
    "\n",
    "list_6 = sorted(list(set(list_1) - set(list_2)) + list(set(list_2) - set(list_1)))\n",
    "#список, содержащий только уникальные элементы каждого из списков\n",
    "\n",
    "list_7 = []\n",
    "list_7.append(min(list_1))\n",
    "list_7.append(max(list_1))\n",
    "list_7.append(min(list_2))\n",
    "list_7.append(max(list_2))\n",
    "#список, содержащий только минимальное и максимальное значение каждого из списков\n",
    "\n",
    "print(list_1)\n",
    "print(list_2)\n",
    "print(list_3)\n",
    "print(list_4)\n",
    "print(list_5)\n",
    "print(list_6)\n",
    "print(list_7)"
   ]
  }
 ],
 "metadata": {
  "kernelspec": {
   "display_name": "Python 3 (ipykernel)",
   "language": "python",
   "name": "python3"
  },
  "language_info": {
   "codemirror_mode": {
    "name": "ipython",
    "version": 3
   },
   "file_extension": ".py",
   "mimetype": "text/x-python",
   "name": "python",
   "nbconvert_exporter": "python",
   "pygments_lexer": "ipython3",
   "version": "3.9.6"
  }
 },
 "nbformat": 4,
 "nbformat_minor": 5
}
